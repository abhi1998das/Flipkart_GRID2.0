{
  "nbformat": 4,
  "nbformat_minor": 0,
  "metadata": {
    "colab": {
      "name": "FLIPKART GRID ( DIGITAL INVOICE).ipynb",
      "provenance": [],
      "toc_visible": true
    },
    "kernelspec": {
      "name": "python3",
      "display_name": "Python 3"
    }
  },
  "cells": [
    {
      "cell_type": "markdown",
      "metadata": {
        "id": "_f9MvA-0uy28",
        "colab_type": "text"
      },
      "source": [
        "# Initial installations\n"
      ]
    },
    {
      "cell_type": "code",
      "metadata": {
        "id": "e3xmwmZH-p3J",
        "colab_type": "code",
        "colab": {
          "base_uri": "https://localhost:8080/",
          "height": 1000
        },
        "outputId": "f5bcb318-3f41-4fba-b80d-d74f75c0b7e6"
      },
      "source": [
        "!sudo apt install tesseract-ocr\n",
        "!pip install pytesseract\n",
        "!pip install invoice2data\n",
        "!pip install pdftotext"
      ],
      "execution_count": null,
      "outputs": [
        {
          "output_type": "stream",
          "text": [
            "Reading package lists... Done\n",
            "Building dependency tree       \n",
            "Reading state information... Done\n",
            "The following package was automatically installed and is no longer required:\n",
            "  libnvidia-common-440\n",
            "Use 'sudo apt autoremove' to remove it.\n",
            "The following additional packages will be installed:\n",
            "  tesseract-ocr-eng tesseract-ocr-osd\n",
            "The following NEW packages will be installed:\n",
            "  tesseract-ocr tesseract-ocr-eng tesseract-ocr-osd\n",
            "0 upgraded, 3 newly installed, 0 to remove and 35 not upgraded.\n",
            "Need to get 4,795 kB of archives.\n",
            "After this operation, 15.8 MB of additional disk space will be used.\n",
            "Get:1 http://archive.ubuntu.com/ubuntu bionic/universe amd64 tesseract-ocr-eng all 4.00~git24-0e00fe6-1.2 [1,588 kB]\n",
            "Get:2 http://archive.ubuntu.com/ubuntu bionic/universe amd64 tesseract-ocr-osd all 4.00~git24-0e00fe6-1.2 [2,989 kB]\n",
            "Get:3 http://archive.ubuntu.com/ubuntu bionic/universe amd64 tesseract-ocr amd64 4.00~git2288-10f4998a-2 [218 kB]\n",
            "Fetched 4,795 kB in 2s (2,590 kB/s)\n",
            "debconf: unable to initialize frontend: Dialog\n",
            "debconf: (No usable dialog-like program is installed, so the dialog based frontend cannot be used. at /usr/share/perl5/Debconf/FrontEnd/Dialog.pm line 76, <> line 3.)\n",
            "debconf: falling back to frontend: Readline\n",
            "debconf: unable to initialize frontend: Readline\n",
            "debconf: (This frontend requires a controlling tty.)\n",
            "debconf: falling back to frontend: Teletype\n",
            "dpkg-preconfigure: unable to re-open stdin: \n",
            "Selecting previously unselected package tesseract-ocr-eng.\n",
            "(Reading database ... 144487 files and directories currently installed.)\n",
            "Preparing to unpack .../tesseract-ocr-eng_4.00~git24-0e00fe6-1.2_all.deb ...\n",
            "Unpacking tesseract-ocr-eng (4.00~git24-0e00fe6-1.2) ...\n",
            "Selecting previously unselected package tesseract-ocr-osd.\n",
            "Preparing to unpack .../tesseract-ocr-osd_4.00~git24-0e00fe6-1.2_all.deb ...\n",
            "Unpacking tesseract-ocr-osd (4.00~git24-0e00fe6-1.2) ...\n",
            "Selecting previously unselected package tesseract-ocr.\n",
            "Preparing to unpack .../tesseract-ocr_4.00~git2288-10f4998a-2_amd64.deb ...\n",
            "Unpacking tesseract-ocr (4.00~git2288-10f4998a-2) ...\n",
            "Setting up tesseract-ocr-osd (4.00~git24-0e00fe6-1.2) ...\n",
            "Setting up tesseract-ocr-eng (4.00~git24-0e00fe6-1.2) ...\n",
            "Setting up tesseract-ocr (4.00~git2288-10f4998a-2) ...\n",
            "Processing triggers for man-db (2.8.3-2ubuntu0.1) ...\n",
            "Collecting pytesseract\n",
            "  Downloading https://files.pythonhosted.org/packages/1d/d8/521db389ff0aae32035bfda6ed39cb2c2e28521c47015f6431f07460c50a/pytesseract-0.3.4.tar.gz\n",
            "Requirement already satisfied: Pillow in /usr/local/lib/python3.6/dist-packages (from pytesseract) (7.0.0)\n",
            "Building wheels for collected packages: pytesseract\n",
            "  Building wheel for pytesseract (setup.py) ... \u001b[?25l\u001b[?25hdone\n",
            "  Created wheel for pytesseract: filename=pytesseract-0.3.4-py2.py3-none-any.whl size=13431 sha256=d7ee5418d88c4910740dd0ad12b8708a61da87be89e605793adafb7d282c21b8\n",
            "  Stored in directory: /root/.cache/pip/wheels/63/2a/a0/7596d2e0a73cf0aeffd6f6170862c4e73f3763b7827e48691a\n",
            "Successfully built pytesseract\n",
            "Installing collected packages: pytesseract\n",
            "Successfully installed pytesseract-0.3.4\n",
            "Collecting invoice2data\n",
            "\u001b[?25l  Downloading https://files.pythonhosted.org/packages/92/5e/9a916a038e20efdbdc27d8a6171c009fafc81ad7f39672fe5dd9a48c4b77/invoice2data-0.3.5.tar.gz (758kB)\n",
            "\u001b[K     |████████████████████████████████| 768kB 4.5MB/s \n",
            "\u001b[?25hRequirement already satisfied: chardet in /usr/local/lib/python3.6/dist-packages (from invoice2data) (3.0.4)\n",
            "Requirement already satisfied: pillow in /usr/local/lib/python3.6/dist-packages (from invoice2data) (7.0.0)\n",
            "Requirement already satisfied: pyyaml in /usr/local/lib/python3.6/dist-packages (from invoice2data) (3.13)\n",
            "Collecting dateparser\n",
            "\u001b[?25l  Downloading https://files.pythonhosted.org/packages/c1/d5/5a2e51bc0058f66b54669735f739d27afc3eb453ab00520623c7ab168e22/dateparser-0.7.6-py2.py3-none-any.whl (362kB)\n",
            "\u001b[K     |████████████████████████████████| 368kB 20.0MB/s \n",
            "\u001b[?25hCollecting unidecode\n",
            "\u001b[?25l  Downloading https://files.pythonhosted.org/packages/d0/42/d9edfed04228bacea2d824904cae367ee9efd05e6cce7ceaaedd0b0ad964/Unidecode-1.1.1-py2.py3-none-any.whl (238kB)\n",
            "\u001b[K     |████████████████████████████████| 245kB 20.0MB/s \n",
            "\u001b[?25hRequirement already satisfied: tzlocal in /usr/local/lib/python3.6/dist-packages (from dateparser->invoice2data) (1.5.1)\n",
            "Requirement already satisfied: regex!=2019.02.19 in /usr/local/lib/python3.6/dist-packages (from dateparser->invoice2data) (2019.12.20)\n",
            "Requirement already satisfied: python-dateutil in /usr/local/lib/python3.6/dist-packages (from dateparser->invoice2data) (2.8.1)\n",
            "Requirement already satisfied: pytz in /usr/local/lib/python3.6/dist-packages (from dateparser->invoice2data) (2018.9)\n",
            "Requirement already satisfied: six>=1.5 in /usr/local/lib/python3.6/dist-packages (from python-dateutil->dateparser->invoice2data) (1.15.0)\n",
            "Building wheels for collected packages: invoice2data\n",
            "  Building wheel for invoice2data (setup.py) ... \u001b[?25l\u001b[?25hdone\n",
            "  Created wheel for invoice2data: filename=invoice2data-0.3.5-cp36-none-any.whl size=79314 sha256=7f91acf0cea07905ce9784694046ebfee193c89659356f4f0a2c01312b26d985\n",
            "  Stored in directory: /root/.cache/pip/wheels/62/83/84/836287bf842a3ee218e9e1551a3407df420d983c6d6975e2a8\n",
            "Successfully built invoice2data\n",
            "Installing collected packages: dateparser, unidecode, invoice2data\n",
            "Successfully installed dateparser-0.7.6 invoice2data-0.3.5 unidecode-1.1.1\n",
            "Collecting pdftotext\n",
            "\u001b[?25l  Downloading https://files.pythonhosted.org/packages/58/38/f04c252f4cb2d10af9abcde0a2db1bcd38288a76a99e88333f2a434e0c40/pdftotext-2.1.4.tar.gz (113kB)\n",
            "\u001b[K     |████████████████████████████████| 122kB 4.5MB/s \n",
            "\u001b[?25hBuilding wheels for collected packages: pdftotext\n",
            "  Building wheel for pdftotext (setup.py) ... \u001b[?25lerror\n",
            "\u001b[31m  ERROR: Failed building wheel for pdftotext\u001b[0m\n",
            "\u001b[?25h  Running setup.py clean for pdftotext\n",
            "Failed to build pdftotext\n",
            "Installing collected packages: pdftotext\n",
            "    Running setup.py install for pdftotext ... \u001b[?25l\u001b[?25herror\n",
            "\u001b[31mERROR: Command errored out with exit status 1: /usr/bin/python3 -u -c 'import sys, setuptools, tokenize; sys.argv[0] = '\"'\"'/tmp/pip-install-xcu_4ma7/pdftotext/setup.py'\"'\"'; __file__='\"'\"'/tmp/pip-install-xcu_4ma7/pdftotext/setup.py'\"'\"';f=getattr(tokenize, '\"'\"'open'\"'\"', open)(__file__);code=f.read().replace('\"'\"'\\r\\n'\"'\"', '\"'\"'\\n'\"'\"');f.close();exec(compile(code, __file__, '\"'\"'exec'\"'\"'))' install --record /tmp/pip-record-l6j_wgd9/install-record.txt --single-version-externally-managed --compile Check the logs for full command output.\u001b[0m\n"
          ],
          "name": "stdout"
        }
      ]
    },
    {
      "cell_type": "markdown",
      "metadata": {
        "id": "bypq_W8YvAU8",
        "colab_type": "text"
      },
      "source": [
        "**Read the input invoice**"
      ]
    },
    {
      "cell_type": "code",
      "metadata": {
        "id": "3WqeQCiYu9J1",
        "colab_type": "code",
        "colab": {
          "base_uri": "https://localhost:8080/",
          "height": 34
        },
        "outputId": "131b2f63-1341-445b-a644-100b718948de"
      },
      "source": [
        "import cv2\n",
        "import numpy as np\n",
        "import pandas as pd\n",
        "import matplotlib.pyplot as plt\n",
        "import csv\n",
        "\n",
        "try:\n",
        "    from PIL import Image\n",
        "except ImportError:\n",
        "    import Image\n",
        "import pytesseract\n",
        "\n",
        "file=r'/content/sample1_2.jpg'\n",
        "img = cv2.imread(file,0)\n",
        "img.shape"
      ],
      "execution_count": null,
      "outputs": [
        {
          "output_type": "execute_result",
          "data": {
            "text/plain": [
              "(1686, 1238)"
            ]
          },
          "metadata": {
            "tags": []
          },
          "execution_count": 11
        }
      ]
    },
    {
      "cell_type": "markdown",
      "metadata": {
        "id": "hpfs6YPavMbu",
        "colab_type": "text"
      },
      "source": [
        "**Thresholding and inverting  image**"
      ]
    },
    {
      "cell_type": "code",
      "metadata": {
        "id": "lq4M4a1pvLbT",
        "colab_type": "code",
        "colab": {
          "base_uri": "https://localhost:8080/",
          "height": 269
        },
        "outputId": "342e859e-c8b5-450a-f907-4ee189c012a4"
      },
      "source": [
        "thresh,img_bin = cv2.threshold(img,160,255,cv2.THRESH_BINARY | cv2.THRESH_OTSU)\n",
        "\n",
        "img_bin = 255-img_bin\n",
        "cv2.imwrite('cv_inverted.png',img_bin)\n",
        "plotting = plt.imshow(img_bin,cmap='gray')\n",
        "plt.show()\n"
      ],
      "execution_count": null,
      "outputs": [
        {
          "output_type": "display_data",
          "data": {
            "image/png": "[encoded data removed]",
            "text/plain": [
              "<Figure size 432x288 with 1 Axes>"
            ]
          },
          "metadata": {
            "tags": [],
            "needs_background": "light"
          }
        }
      ]
    },
    {
      "cell_type": "markdown",
      "metadata": {
        "id": "ES5O3mj7vdas",
        "colab_type": "text"
      },
      "source": [
        "**Finding vertical and horizontal lines**"
      ]
    },
    {
      "cell_type": "code",
      "metadata": {
        "id": "N4yojZzzvW3k",
        "colab_type": "code",
        "colab": {
          "base_uri": "https://localhost:8080/",
          "height": 521
        },
        "outputId": "9b6a0d41-ebe6-4fc2-8072-990c5ee04df1"
      },
      "source": [
        "\n",
        "kernel_len = np.array(img).shape[1]//100\n",
        "ver_kernel = cv2.getStructuringElement(cv2.MORPH_RECT, (1, kernel_len))\n",
        "hor_kernel = cv2.getStructuringElement(cv2.MORPH_RECT, (kernel_len, 1))\n",
        "kernel = cv2.getStructuringElement(cv2.MORPH_RECT, (2, 2))\n",
        "\n",
        "image_1 = cv2.erode(img_bin, ver_kernel, iterations=3)\n",
        "vertical_lines = cv2.dilate(image_1, ver_kernel, iterations=3)\n",
        "cv2.imwrite(\"vertical.jpg\",vertical_lines)\n",
        "plotting = plt.imshow(image_1,cmap='gray')\n",
        "plt.show()\n",
        "\n",
        "image_2 = cv2.erode(img_bin, hor_kernel, iterations=3)\n",
        "horizontal_lines = cv2.dilate(image_2, hor_kernel, iterations=3)\n",
        "cv2.imwrite(\"horizontal.jpg\",horizontal_lines)\n",
        "plotting = plt.imshow(image_2,cmap='gray')\n",
        "plt.show()\n"
      ],
      "execution_count": null,
      "outputs": [
        {
          "output_type": "display_data",
          "data": {
            "image/png": "[encoded data removed]",
            "text/plain": [
              "<Figure size 432x288 with 1 Axes>"
            ]
          },
          "metadata": {
            "tags": [],
            "needs_background": "light"
          }
        },
        {
          "output_type": "display_data",
          "data": {
            "image/png": "[encoded data removed]",
            "text/plain": [
              "<Figure size 432x288 with 1 Axes>"
            ]
          },
          "metadata": {
            "tags": [],
            "needs_background": "light"
          }
        }
      ]
    },
    {
      "cell_type": "markdown",
      "metadata": {
        "id": "jC4qK5TbvxVZ",
        "colab_type": "text"
      },
      "source": [
        "**Sort Contours and process the image and save it in a excel sheet**"
      ]
    },
    {
      "cell_type": "code",
      "metadata": {
        "id": "X24hV_XzBAO8",
        "colab_type": "code",
        "colab": {
          "base_uri": "https://localhost:8080/",
          "height": 793
        },
        "outputId": "2ffb7f4e-2363-4db1-df42-95efa9cce5af"
      },
      "source": [
        "\n",
        "img_vh = cv2.addWeighted(vertical_lines, 0.5, horizontal_lines, 0.5, 0.0)\n",
        "img_vh = cv2.erode(~img_vh, kernel, iterations=2)\n",
        "thresh, img_vh = cv2.threshold(img_vh,128,255, cv2.THRESH_BINARY | cv2.THRESH_OTSU)\n",
        "cv2.imwrite(\"img_vh.jpg\", img_vh)\n",
        "bitxor = cv2.bitwise_xor(img,img_vh)\n",
        "bitnot = cv2.bitwise_not(bitxor)\n",
        "plotting = plt.imshow(bitnot,cmap='gray')\n",
        "plt.show()\n",
        "\n",
        "contours, hierarchy = cv2.findContours(img_vh, cv2.RETR_TREE, cv2.CHAIN_APPROX_SIMPLE)\n",
        "\n",
        "def sort_contours(cnts, method=\"left-to-right\"):\n",
        "    reverse = False\n",
        "    i = 0\n",
        "    if method == \"right-to-left\" or method == \"bottom-to-top\":\n",
        "        reverse = True\n",
        "    if method == \"top-to-bottom\" or method == \"bottom-to-top\":\n",
        "        i = 1\n",
        "    boundingBoxes = [cv2.boundingRect(c) for c in cnts]\n",
        "    (cnts, boundingBoxes) = zip(*sorted(zip(cnts, boundingBoxes),\n",
        "    key=lambda b:b[1][i], reverse=reverse))\n",
        "    return (cnts, boundingBoxes)\n",
        "\n",
        "contours, boundingBoxes = sort_contours(contours, method=\"top-to-bottom\")\n",
        "\n",
        "heights = [boundingBoxes[i][3] for i in range(len(boundingBoxes))]\n",
        "\n",
        "mean = np.mean(heights)\n",
        "\n",
        "box = []\n",
        "for c in contours:\n",
        "    x, y, w, h = cv2.boundingRect(c)\n",
        "    if (w<1000 and h<500):\n",
        "        image = cv2.rectangle(img,(x,y),(x+w,y+h),(0,255,0),2)\n",
        "        box.append([x,y,w,h])\n",
        "        \n",
        "plotting = plt.imshow(image,cmap='gray')\n",
        "plt.show()\n",
        "row=[]\n",
        "column=[]\n",
        "j=0\n",
        "\n",
        "for i in range(len(box)):    \n",
        "        \n",
        "    if(i==0):\n",
        "        column.append(box[i])\n",
        "        previous=box[i]    \n",
        "    \n",
        "    else:\n",
        "        if(box[i][1]<=previous[1]+mean/2):\n",
        "            column.append(box[i])\n",
        "            previous=box[i]            \n",
        "            \n",
        "            if(i==len(box)-1):\n",
        "                row.append(column)        \n",
        "            \n",
        "        else:\n",
        "            row.append(column)\n",
        "            column=[]\n",
        "            previous = box[i]\n",
        "            column.append(box[i])\n",
        "            \n",
        "print(column)\n",
        "print(row)\n",
        "\n",
        "countcol = 0\n",
        "for i in range(len(row)):\n",
        "    countcol = len(row[i])\n",
        "    if countcol > countcol:\n",
        "        countcol = countcol\n",
        "\n",
        "center = [int(row[i][j][0]+row[i][j][2]/2) for j in range(len(row[i])) if row[0]]\n",
        "\n",
        "center=np.array(center)\n",
        "center.sort()\n",
        "print(center)\n",
        "\n",
        "finalboxes = []\n",
        "for i in range(len(row)):\n",
        "    lis=[]\n",
        "    for k in range(countcol):\n",
        "        lis.append([])\n",
        "    for j in range(len(row[i])):\n",
        "        diff = abs(center-(row[i][j][0]+row[i][j][2]/4))\n",
        "        minimum = min(diff)\n",
        "        indexing = list(diff).index(minimum)\n",
        "        lis[indexing].append(row[i][j])\n",
        "    finalboxes.append(lis)\n",
        "\n",
        "\n",
        "outer=[]\n",
        "for i in range(len(finalboxes)):\n",
        "    for j in range(len(finalboxes[i])):\n",
        "        inner=''\n",
        "        if(len(finalboxes[i][j])==0):\n",
        "            outer.append(' ')\n",
        "        else:\n",
        "            for k in range(len(finalboxes[i][j])):\n",
        "                y,x,w,h = finalboxes[i][j][k][0],finalboxes[i][j][k][1], finalboxes[i][j][k][2],finalboxes[i][j][k][3]\n",
        "                finalimg = bitnot[x:x+h, y:y+w]\n",
        "                kernel = cv2.getStructuringElement(cv2.MORPH_RECT, (2, 1))\n",
        "                border = cv2.copyMakeBorder(finalimg,2,2,2,2, cv2.BORDER_CONSTANT,value=[255,255])\n",
        "                resizing = cv2.resize(border, None, fx=2, fy=2, interpolation=cv2.INTER_CUBIC)\n",
        "                dilation = cv2.dilate(resizing, kernel,iterations=1)\n",
        "                erosion = cv2.erode(dilation, kernel,iterations=2)\n",
        "                \n",
        "                out = pytesseract.image_to_string(erosion)\n",
        "                if(len(out)==0):\n",
        "                    out = pytesseract.image_to_string(erosion, config='--psm 3')\n",
        "                inner = inner +\" \"+ out\n",
        "            outer.append(inner)\n",
        "\n",
        "arr = np.array(outer)\n",
        "dataframe = pd.DataFrame(arr.reshape(len(row), countcol))\n",
        "print(dataframe)\n",
        "data = dataframe.style.set_properties(align=\"left\")\n",
        "data.to_excel(\"output.xlsx\")"
      ],
      "execution_count": null,
      "outputs": [
        {
          "output_type": "display_data",
          "data": {
            "image/png": "[encoded data removed]",
            "text/plain": [
              "<Figure size 432x288 with 1 Axes>"
            ]
          },
          "metadata": {
            "tags": [],
            "needs_background": "light"
          }
        },
        {
          "output_type": "display_data",
          "data": {
            "image/png": "[encoded data removed]",
            "text/plain": [
              "<Figure size 432x288 with 1 Axes>"
            ]
          },
          "metadata": {
            "tags": [],
            "needs_background": "light"
          }
        },
        {
          "output_type": "stream",
          "text": [
            "[[77, 1559, 492, 7]]\n",
            "[[[1220, 13, 9, 56]], [[220, 249, 346, 7], [117, 251, 81, 5], [921, 252, 229, 63], [649, 252, 269, 65]], [[921, 318, 229, 63], [650, 318, 268, 65]], [[921, 384, 229, 64], [650, 384, 268, 65], [73, 409, 572, 172], [922, 450, 228, 62], [650, 450, 268, 63]], [[922, 515, 228, 63], [650, 515, 268, 64]], [[1038, 582, 112, 49], [941, 582, 94, 49], [844, 582, 93, 49], [747, 583, 93, 48], [651, 583, 93, 49], [538, 583, 109, 49], [483, 583, 51, 49], [427, 583, 53, 49], [251, 584, 172, 49], [128, 584, 120, 49], [74, 584, 51, 49]], [[1038, 634, 112, 49], [941, 634, 94, 49], [844, 634, 93, 49], [747, 635, 93, 48], [651, 635, 93, 49], [538, 635, 109, 49], [484, 636, 50, 48], [427, 636, 53, 48], [251, 636, 173, 49], [128, 636, 120, 49], [74, 637, 51, 48]], [[941, 686, 209, 25], [651, 686, 286, 25], [74, 687, 574, 26], [941, 714, 209, 25], [651, 714, 286, 25], [74, 715, 574, 26], [941, 742, 209, 25], [651, 742, 286, 26], [75, 743, 573, 26], [941, 770, 209, 25], [651, 770, 286, 53], [75, 771, 573, 26], [941, 798, 209, 25], [75, 800, 573, 25], [941, 826, 209, 25], [651, 826, 286, 26], [75, 827, 573, 26], [941, 854, 210, 25], [651, 854, 286, 26], [75, 855, 573, 26]]]\n",
            "[ 361  361  361  361  361  361  361  794  794  794  794  794  794 1045\n",
            " 1045 1045 1045 1045 1045 1046]\n",
            "                                                  0  1  2  3   ... 16 17 18       19\n",
            "0                                                              ...              Ez |\n",
            "1                                                              ...                  \n",
            "2                                                              ...                  \n",
            "3   Billed To:\\n\\nReciever Companyind\\n\\nReciever...           ...                  \n",
            "4                                                              ...                  \n",
            "5   Rate Qty HSN\\nNo. Description of\\nServices/Go...           ...            AMOUNT\n",
            "6   8,000  8528 Dummy product for\\nevaluation | A...           ...             8,000\n",
            "7                          ____ Total Quantity                 ...                  \n",
            "\n",
            "[8 rows x 20 columns]\n"
          ],
          "name": "stdout"
        }
      ]
    },
    {
      "cell_type": "code",
      "metadata": {
        "id": "gGSWT1EwZrf-",
        "colab_type": "code",
        "colab": {
          "base_uri": "https://localhost:8080/",
          "height": 709
        },
        "outputId": "e9da9dd6-6c6a-48a1-fa9d-621e2e295f25"
      },
      "source": [
        "!pip install -U CamelotPro"
      ],
      "execution_count": null,
      "outputs": [
        {
          "output_type": "stream",
          "text": [
            "Collecting CamelotPro\n",
            "  Downloading https://files.pythonhosted.org/packages/14/a1/8ecd9ab671ea47fdf2f619a6d25fd166cb4aa9e2d2cfedc7b9bd16d558b6/CamelotPro-1.2.1-py3-none-any.whl\n",
            "Collecting ExtractTable>=1.2.0\n",
            "  Downloading https://files.pythonhosted.org/packages/ca/8c/53380c0c4c69c4be60ae1f219298b92fc77f0cb70134b7fb8dae06506bff/ExtractTable-2.0.2-py3-none-any.whl\n",
            "Collecting camelot-py>=0.7.3\n",
            "\u001b[?25l  Downloading https://files.pythonhosted.org/packages/ed/78/123007d6aff9811bd087ff5dd68e06a9df62b2fdbf7685d74c9d6f247921/camelot_py-0.8.2-py3-none-any.whl (42kB)\n",
            "\u001b[K     |████████████████████████████████| 51kB 6.1MB/s \n",
            "\u001b[?25hRequirement already satisfied, skipping upgrade: pandas>=0.24 in /usr/local/lib/python3.6/dist-packages (from ExtractTable>=1.2.0->CamelotPro) (1.0.5)\n",
            "Collecting PyPDF2>=1.26\n",
            "\u001b[?25l  Downloading https://files.pythonhosted.org/packages/b4/01/68fcc0d43daf4c6bdbc6b33cc3f77bda531c86b174cac56ef0ffdb96faab/PyPDF2-1.26.0.tar.gz (77kB)\n",
            "\u001b[K     |████████████████████████████████| 81kB 8.9MB/s \n",
            "\u001b[?25hRequirement already satisfied, skipping upgrade: requests>=2.21 in /usr/local/lib/python3.6/dist-packages (from ExtractTable>=1.2.0->CamelotPro) (2.23.0)\n",
            "Requirement already satisfied, skipping upgrade: click>=6.7 in /usr/local/lib/python3.6/dist-packages (from camelot-py>=0.7.3->CamelotPro) (7.1.2)\n",
            "Collecting pdfminer.six>=20200726\n",
            "\u001b[?25l  Downloading https://files.pythonhosted.org/packages/98/12/ab5ebafc4cb2b49847de7bfc26f2d152f42a4af136263152d070c61dfd7d/pdfminer.six-20200726-py3-none-any.whl (5.6MB)\n",
            "\u001b[K     |████████████████████████████████| 5.6MB 39.5MB/s \n",
            "\u001b[?25hRequirement already satisfied, skipping upgrade: numpy>=1.13.3 in /usr/local/lib/python3.6/dist-packages (from camelot-py>=0.7.3->CamelotPro) (1.18.5)\n",
            "Requirement already satisfied, skipping upgrade: openpyxl>=2.5.8 in /usr/local/lib/python3.6/dist-packages (from camelot-py>=0.7.3->CamelotPro) (2.5.9)\n",
            "Requirement already satisfied, skipping upgrade: chardet>=3.0.4 in /usr/local/lib/python3.6/dist-packages (from camelot-py>=0.7.3->CamelotPro) (3.0.4)\n",
            "Requirement already satisfied, skipping upgrade: pytz>=2017.2 in /usr/local/lib/python3.6/dist-packages (from pandas>=0.24->ExtractTable>=1.2.0->CamelotPro) (2018.9)\n",
            "Requirement already satisfied, skipping upgrade: python-dateutil>=2.6.1 in /usr/local/lib/python3.6/dist-packages (from pandas>=0.24->ExtractTable>=1.2.0->CamelotPro) (2.8.1)\n",
            "Requirement already satisfied, skipping upgrade: certifi>=2017.4.17 in /usr/local/lib/python3.6/dist-packages (from requests>=2.21->ExtractTable>=1.2.0->CamelotPro) (2020.6.20)\n",
            "Requirement already satisfied, skipping upgrade: urllib3!=1.25.0,!=1.25.1,<1.26,>=1.21.1 in /usr/local/lib/python3.6/dist-packages (from requests>=2.21->ExtractTable>=1.2.0->CamelotPro) (1.24.3)\n",
            "Requirement already satisfied, skipping upgrade: idna<3,>=2.5 in /usr/local/lib/python3.6/dist-packages (from requests>=2.21->ExtractTable>=1.2.0->CamelotPro) (2.10)\n",
            "Collecting cryptography\n",
            "\u001b[?25l  Downloading https://files.pythonhosted.org/packages/ba/91/84a29d6a27fd6dfc21f475704c4d2053d58ed7a4033c2b0ce1b4ca4d03d9/cryptography-3.0-cp35-abi3-manylinux2010_x86_64.whl (2.7MB)\n",
            "\u001b[K     |████████████████████████████████| 2.7MB 46.8MB/s \n",
            "\u001b[?25hRequirement already satisfied, skipping upgrade: sortedcontainers in /usr/local/lib/python3.6/dist-packages (from pdfminer.six>=20200726->camelot-py>=0.7.3->CamelotPro) (2.2.2)\n",
            "Requirement already satisfied, skipping upgrade: jdcal in /usr/local/lib/python3.6/dist-packages (from openpyxl>=2.5.8->camelot-py>=0.7.3->CamelotPro) (1.4.1)\n",
            "Requirement already satisfied, skipping upgrade: et-xmlfile in /usr/local/lib/python3.6/dist-packages (from openpyxl>=2.5.8->camelot-py>=0.7.3->CamelotPro) (1.0.1)\n",
            "Requirement already satisfied, skipping upgrade: six>=1.5 in /usr/local/lib/python3.6/dist-packages (from python-dateutil>=2.6.1->pandas>=0.24->ExtractTable>=1.2.0->CamelotPro) (1.15.0)\n",
            "Requirement already satisfied, skipping upgrade: cffi!=1.11.3,>=1.8 in /usr/local/lib/python3.6/dist-packages (from cryptography->pdfminer.six>=20200726->camelot-py>=0.7.3->CamelotPro) (1.14.1)\n",
            "Requirement already satisfied, skipping upgrade: pycparser in /usr/local/lib/python3.6/dist-packages (from cffi!=1.11.3,>=1.8->cryptography->pdfminer.six>=20200726->camelot-py>=0.7.3->CamelotPro) (2.20)\n",
            "Building wheels for collected packages: PyPDF2\n",
            "  Building wheel for PyPDF2 (setup.py) ... \u001b[?25l\u001b[?25hdone\n",
            "  Created wheel for PyPDF2: filename=PyPDF2-1.26.0-cp36-none-any.whl size=61086 sha256=9a035a44dc20668fd7a786154f2243ccbb17ea7f1c4824be68a15e65a87058fd\n",
            "  Stored in directory: /root/.cache/pip/wheels/53/84/19/35bc977c8bf5f0c23a8a011aa958acd4da4bbd7a229315c1b7\n",
            "Successfully built PyPDF2\n",
            "Installing collected packages: PyPDF2, ExtractTable, cryptography, pdfminer.six, camelot-py, CamelotPro\n",
            "Successfully installed CamelotPro-1.2.1 ExtractTable-2.0.2 PyPDF2-1.26.0 camelot-py-0.8.2 cryptography-3.0 pdfminer.six-20200726\n"
          ],
          "name": "stdout"
        }
      ]
    },
    {
      "cell_type": "markdown",
      "metadata": {
        "id": "eqDSHnL7wDO8",
        "colab_type": "text"
      },
      "source": [
        "# APIs which we plan to use"
      ]
    },
    {
      "cell_type": "code",
      "metadata": {
        "id": "2P1XVhela7Iw",
        "colab_type": "code",
        "colab": {
          "base_uri": "https://localhost:8080/",
          "height": 50
        },
        "outputId": "58018a2a-fe90-47c4-bf44-f6727a0737c2"
      },
      "source": [
        "\n",
        "api_key = \"QmMQ0t73wR5LZQ6074JmS87sngWEWiSm74ZPNKPM\"\n",
        "from camelot_pro.gopro import GoPro\n",
        "validate = GoPro(api_key=api_key).validate_api_key()\n",
        "print(validate.api_usage)\n",
        "from camelot_pro import read_pdf\n",
        "input_file = \"sample1_2.jpg\"\n",
        "pro_tables = read_pdf(input_file, flavor=\"CamelotPro\", pro_kwargs={'api_key': api_key, 'dup_check': False})"
      ],
      "execution_count": null,
      "outputs": [
        {
          "output_type": "stream",
          "text": [
            "[Info]: Only 6 Credits Left\n",
            "{'credits': 15, 'queued': 0, 'used': 9}\n"
          ],
          "name": "stdout"
        }
      ]
    },
    {
      "cell_type": "code",
      "metadata": {
        "id": "fhFO08aOeQed",
        "colab_type": "code",
        "colab": {
          "base_uri": "https://localhost:8080/",
          "height": 35
        },
        "outputId": "8b65cc98-f8ae-4b3b-e7ac-e6967007a747"
      },
      "source": [
        "pro_tables.JobStatus"
      ],
      "execution_count": null,
      "outputs": [
        {
          "output_type": "execute_result",
          "data": {
            "application/vnd.google.colaboratory.intrinsic+json": {
              "type": "string"
            },
            "text/plain": [
              "'Success'"
            ]
          },
          "metadata": {
            "tags": []
          },
          "execution_count": 18
        }
      ]
    },
    {
      "cell_type": "code",
      "metadata": {
        "id": "2PiG-sQweSz0",
        "colab_type": "code",
        "colab": {
          "base_uri": "https://localhost:8080/",
          "height": 101
        },
        "outputId": "ffe4611a-2814-44b0-bc52-e4f3027fb33a"
      },
      "source": [
        "pro_tables\n",
        "pro_tables.__dict__"
      ],
      "execution_count": null,
      "outputs": [
        {
          "output_type": "execute_result",
          "data": {
            "text/plain": [
              "{'JobStatus': 'Success',\n",
              " 'Pages': 1,\n",
              " '_tables': [<Table shape=(5, 2)>,\n",
              "  <Table shape=(8, 4)>,\n",
              "  <Table shape=(2, 10)>]}"
            ]
          },
          "metadata": {
            "tags": []
          },
          "execution_count": 19
        }
      ]
    },
    {
      "cell_type": "code",
      "metadata": {
        "id": "wdLBrDJKeXw8",
        "colab_type": "code",
        "colab": {
          "base_uri": "https://localhost:8080/",
          "height": 106
        },
        "outputId": "d72b9719-3780-48d8-f730-1d635cfa1479"
      },
      "source": [
        "pro_tables[2].df"
      ],
      "execution_count": null,
      "outputs": [
        {
          "output_type": "execute_result",
          "data": {
            "text/html": [
              "<div>\n",
              "<style scoped>\n",
              "    .dataframe tbody tr th:only-of-type {\n",
              "        vertical-align: middle;\n",
              "    }\n",
              "\n",
              "    .dataframe tbody tr th {\n",
              "        vertical-align: top;\n",
              "    }\n",
              "\n",
              "    .dataframe thead th {\n",
              "        text-align: right;\n",
              "    }\n",
              "</style>\n",
              "<table border=\"1\" class=\"dataframe\">\n",
              "  <thead>\n",
              "    <tr style=\"text-align: right;\">\n",
              "      <th></th>\n",
              "      <th>0</th>\n",
              "      <th>1</th>\n",
              "      <th>2</th>\n",
              "      <th>3</th>\n",
              "      <th>4</th>\n",
              "      <th>5</th>\n",
              "      <th>6</th>\n",
              "      <th>7</th>\n",
              "      <th>8</th>\n",
              "      <th>9</th>\n",
              "    </tr>\n",
              "  </thead>\n",
              "  <tbody>\n",
              "    <tr>\n",
              "      <th>0</th>\n",
              "      <td>No.</td>\n",
              "      <td>Material Code</td>\n",
              "      <td>Description of Services/Goods</td>\n",
              "      <td>HSN No.</td>\n",
              "      <td>Qty</td>\n",
              "      <td>Rate</td>\n",
              "      <td>Discount%</td>\n",
              "      <td>CGST%</td>\n",
              "      <td>SGST/UGST %</td>\n",
              "      <td>IGST %</td>\n",
              "    </tr>\n",
              "    <tr>\n",
              "      <th>1</th>\n",
              "      <td></td>\n",
              "      <td>AB1234</td>\n",
              "      <td>Dummy product for evaluation</td>\n",
              "      <td>8528</td>\n",
              "      <td>1</td>\n",
              "      <td>8,000</td>\n",
              "      <td>0.00</td>\n",
              "      <td>14.00</td>\n",
              "      <td>14.00</td>\n",
              "      <td>0.00</td>\n",
              "    </tr>\n",
              "  </tbody>\n",
              "</table>\n",
              "</div>"
            ],
            "text/plain": [
              "     0              1  ...            8       9\n",
              "0  No.  Material Code  ...  SGST/UGST %  IGST %\n",
              "1              AB1234  ...        14.00    0.00\n",
              "\n",
              "[2 rows x 10 columns]"
            ]
          },
          "metadata": {
            "tags": []
          },
          "execution_count": 22
        }
      ]
    },
    {
      "cell_type": "code",
      "metadata": {
        "id": "tR7ETbW81f7T",
        "colab_type": "code",
        "colab": {
          "base_uri": "https://localhost:8080/",
          "height": 275
        },
        "outputId": "7a530b1e-6b67-472f-a6bb-4cb6fe69da93"
      },
      "source": [
        "!pip install cloudmersive-ocr-api-client"
      ],
      "execution_count": null,
      "outputs": [
        {
          "output_type": "stream",
          "text": [
            "Collecting cloudmersive-ocr-api-client\n",
            "\u001b[?25l  Downloading https://files.pythonhosted.org/packages/3f/50/a1df4678f7d9c01a766de8bac2260b23b1061b49cb92a563611961741e01/cloudmersive_ocr_api_client-3.0.1.tar.gz (40kB)\n",
            "\r\u001b[K     |████████                        | 10kB 16.3MB/s eta 0:00:01\r\u001b[K     |████████████████                | 20kB 1.5MB/s eta 0:00:01\r\u001b[K     |████████████████████████        | 30kB 1.8MB/s eta 0:00:01\r\u001b[K     |████████████████████████████████| 40kB 1.5MB/s \n",
            "\u001b[?25hRequirement already satisfied: certifi>=2017.4.17 in /usr/local/lib/python3.6/dist-packages (from cloudmersive-ocr-api-client) (2020.6.20)\n",
            "Requirement already satisfied: python-dateutil>=2.1 in /usr/local/lib/python3.6/dist-packages (from cloudmersive-ocr-api-client) (2.8.1)\n",
            "Requirement already satisfied: six>=1.10 in /usr/local/lib/python3.6/dist-packages (from cloudmersive-ocr-api-client) (1.12.0)\n",
            "Requirement already satisfied: urllib3>=1.23 in /usr/local/lib/python3.6/dist-packages (from cloudmersive-ocr-api-client) (1.24.3)\n",
            "Building wheels for collected packages: cloudmersive-ocr-api-client\n",
            "  Building wheel for cloudmersive-ocr-api-client (setup.py) ... \u001b[?25l\u001b[?25hdone\n",
            "  Created wheel for cloudmersive-ocr-api-client: filename=cloudmersive_ocr_api_client-3.0.1-cp36-none-any.whl size=98848 sha256=25e88481b52e0f5d2ded0eae9716b96e620dff61d805d7e15caf3fe1f3da5f67\n",
            "  Stored in directory: /root/.cache/pip/wheels/f1/ca/9e/290f1b5f0bfe5f092d4ce18c9c032d893111c120f28e9d72a8\n",
            "Successfully built cloudmersive-ocr-api-client\n",
            "Installing collected packages: cloudmersive-ocr-api-client\n",
            "Successfully installed cloudmersive-ocr-api-client-3.0.1\n"
          ],
          "name": "stdout"
        }
      ]
    },
    {
      "cell_type": "code",
      "metadata": {
        "id": "iXkUthvB1l80",
        "colab_type": "code",
        "colab": {
          "base_uri": "https://localhost:8080/",
          "height": 1000
        },
        "outputId": "a4663ed8-e291-4a3f-b5f9-24499deeba71"
      },
      "source": [
        "import cloudmersive_ocr_api_client\n",
        "from cloudmersive_ocr_api_client.rest import ApiException\n",
        "\n",
        "api_instance = cloudmersive_ocr_api_client.ImageOcrApi()\n",
        "image_file = 'image2.jpg' # file | Image file to perform OCR on.  Common file formats such as PNG, JPEG are supported.\n",
        "\n",
        "api_instance.api_client.configuration.api_key = {}\n",
        "api_instance.api_client.configuration.api_key['Apikey'] = 'API KEY'\n",
        "\n",
        "try:\n",
        "    # Converts an uploaded image in common formats such as JPEG, PNG into text via Optical Character Recognition.\n",
        "    api_response = api_instance.image_ocr_post(image_file)\n",
        "    print(api_response)\n",
        "except ApiException as e:\n",
        "    print(\"Exception when calling ImageOcrApi->image_ocr_post: %s\\n\" % e)"
      ],
      "execution_count": null,
      "outputs": [
        {
          "output_type": "stream",
          "text": [
            "{'mean_confidence_level': 0.95,\n",
            " 'text_result': 'VirtualCompanyind\\n'\n",
            "                'VirtualAddr, 255.0.0.0, India\\n'\n",
            "                'Page 1 of 3\\n'\n",
            "                'Telephone: Email: abc@gmail.com\\n'\n",
            "                'GSTN No: 17ABCDEF123GXYZ PAN No: AAABB9990A\\n'\n",
            "                'CIN: A10002AA1710ALBO01995\\n'\n",
            "                'Tax Invoice\\n'\n",
            "                'Original for Recipient\\n'\n",
            "                'Bill To - 1700235\\n'\n",
            "                'Ship To: - 1700234\\n'\n",
            "                'Transporter Name: SAFEXPRESS PRIVATE\\n'\n",
            "                'Invoice No (ODN):\\n'\n",
            "                'Customer Name: RECIEVER COMPANYIND\\n'\n",
            "                'Customer Name: RECIEVER COMPANYIND\\n'\n",
            "                'LR Number:\\n'\n",
            "                '1234\\n'\n",
            "                '1234\\n'\n",
            "                'RECIEVER COMPANYIND .\\n'\n",
            "                'RECIEVER COMPANYIND .\\n'\n",
            "                'mooO, INDIA\\n'\n",
            "                '11000, INDIA\\n'\n",
            "                'LR Date:\\n'\n",
            "                '1/7/2017\\n'\n",
            "                'Internal Number: 1234\\n'\n",
            "                'E Way Bil\\n'\n",
            "                'ice Date: 1/7/2017\\n'\n",
            "                'Freight Terms:\\n'\n",
            "                'Costs, insurance & freight\\n'\n",
            "                'voice Time: 12:10:59\\n'\n",
            "                'livery Number: 8000134664\\n'\n",
            "                'State: Haryana, India\\n'\n",
            "                'State: Haryana, India\\n'\n",
            "                'Delivery Terms:\\n'\n",
            "                'Payment Terms:\\n'\n",
            "                'within 60 Days\\n'\n",
            "                'Delivery Date: 1/7/2017\\n'\n",
            "                'State code: 06\\n'\n",
            "                'State code: 06\\n'\n",
            "                'hase Order No.: PO1234567\\n'\n",
            "                'Telephone:\\n'\n",
            "                'Telephone:\\n'\n",
            "                'Purchase Order Date: 1/7/2017\\n'\n",
            "                'PAN NO.: ABBCC9098G\\n'\n",
            "                'PAN NO.: ABBCC9098G\\n'\n",
            "                'DA Number\\n'\n",
            "                'Order No.: 1234567\\n'\n",
            "                'GSTN No: -07AABBC8888G1AZ1\\n'\n",
            "                'GSTN No:-07AABBC8888G1AZ1\\n'\n",
            "                'DA Date::\\n'\n",
            "                '1/7/2017\\n'\n",
            "                'Place of Supply\\n'\n",
            "                'State Name:\\n'\n",
            "                'Haryana\\n'\n",
            "                'State Code\\n'\n",
            "                '06\\n'\n",
            "                'S.N\\n'\n",
            "                'Item,\\n'\n",
            "                'gory Size wise\\n'\n",
            "                '. Description\\n'\n",
            "                'on\\n'\n",
            "                'c\\n'\n",
            "                '195\\n'\n",
            "                'Disc\\n'\n",
            "                'Basic selling\\n'\n",
            "                'CGST\\n'\n",
            "                'SGST/UTGST\\n'\n",
            "                'GST\\n'\n",
            "                'Invoice\\n'\n",
            "                'CODE\\n'\n",
            "                'aty\\n'\n",
            "                'per Un\\n'\n",
            "                'UNB\\n'\n",
            "                'Price (INR)\\n'\n",
            "                '(INR)\\n'\n",
            "                'Rate(%) Amt Rate(%) Amt\\n'\n",
            "                'Rate(%) Amt\\n'\n",
            "                '(INR)\\n'\n",
            "                'Dummy\\n'\n",
            "                '6203 Bottom 32/34/2\\n'\n",
            "                '1523.04\\n'\n",
            "                '0.0\\n'\n",
            "                '0.00\\n'\n",
            "                'product to\\n'\n",
            "                '1523.04 2.50 38.08 2.50\\n'\n",
            "                '38.08 0.00\\n'\n",
            "                '0.00\\n'\n",
            "                '1599.20\\n'\n",
            "                'evaluation\\n'\n",
            "                '6203 Bottom 32/34/2\\n'\n",
            "                'PC\\n'\n",
            "                '1523.04\\n'\n",
            "                '0.00\\n'\n",
            "                '0:00\\n'\n",
            "                '523.04 2.50\\n'\n",
            "                '38.08 2.50\\n'\n",
            "                '38.08 0.00\\n'\n",
            "                '0.00\\n'\n",
            "                '599.20\\n'\n",
            "                'evaluation\\n'\n",
            "                '3\\n'\n",
            "                'Dummy\\n'\n",
            "                'product for\\n'\n",
            "                '6203 Bottom 32/34/2\\n'\n",
            "                '1523.04\\n'\n",
            "                '0.00\\n'\n",
            "                '0.00\\n'\n",
            "                '1523.04 2.50 38.08 2.50\\n'\n",
            "                '38.08 0.00\\n'\n",
            "                '0.00\\n'\n",
            "                '1599.20\\n'\n",
            "                'evaluation\\n'\n",
            "                'Dummy\\n'\n",
            "                'product for\\n'\n",
            "                '6203 Bottom 32/34/2\\n'\n",
            "                'alec\\n'\n",
            "                '1523.04\\n'\n",
            "                '0.00\\n'\n",
            "                '0.00\\n'\n",
            "                '1523.04 2.50\\n'\n",
            "                '38.08 2.50 38.08 0.00\\n'\n",
            "                '0.00\\n'\n",
            "                '599.20\\n'\n",
            "                'evaluation\\n'\n",
            "                'Dummy\\n'\n",
            "                'product for\\n'\n",
            "                '6203 Bottom 32/34/2\\n'\n",
            "                'elec\\n'\n",
            "                '1523.04\\n'\n",
            "                '0.0\\n'\n",
            "                '1523.04 2.50\\n'\n",
            "                '38.08 2.50\\n'\n",
            "                '38.08 0.00\\n'\n",
            "                '0.00\\n'\n",
            "                '599.20\\n'\n",
            "                'evaluation\\n'\n",
            "                '6 Dummy\\n'\n",
            "                '6203 Bottom 32/34/2\\n'\n",
            "                '2 PC 1523.04\\n'\n",
            "                '0.00\\n'\n",
            "                'product for\\n'\n",
            "                '1523.04 2.50\\n'\n",
            "                '38.08 2.50 38.08 0.00\\n'\n",
            "                '0.00\\n'\n",
            "                '1599.20\\n'\n",
            "                'evaluation\\n'\n",
            "                'Dummy\\n'\n",
            "                'product for\\n'\n",
            "                'Bottom 32/34/2\\n'\n",
            "                '2 PC\\n'\n",
            "                '1523.04\\n'\n",
            "                '0.00\\n'\n",
            "                '0.0\\n'\n",
            "                '1523.04 2.50\\n'\n",
            "                '38.08 2.50 38.08 0.00\\n'\n",
            "                '0.00\\n'\n",
            "                '1599.20\\n'\n",
            "                'evaluation\\n'\n",
            "                'Dummy\\n'\n",
            "                '6203 Bottom 32/34/1\\n'\n",
            "                'product for\\n'\n",
            "                '761.52\\n'\n",
            "                '0.00\\n'\n",
            "                '0.00\\n'\n",
            "                '761.52 2.50\\n'\n",
            "                '19.04 2.50 19.04 0.00\\n'\n",
            "                '0.00\\n'\n",
            "                '799.60\\n'\n",
            "                'evaluation'}\n"
          ],
          "name": "stdout"
        }
      ]
    },
    {
      "cell_type": "code",
      "metadata": {
        "id": "mjvSbq7DEeUI",
        "colab_type": "code",
        "colab": {
          "base_uri": "https://localhost:8080/",
          "height": 269
        },
        "outputId": "328cf62a-a982-48c5-8df4-5e7ff1572af5"
      },
      "source": [
        "\n",
        "import cv2\n",
        "import numpy as np\n",
        "import pandas as pd\n",
        "import matplotlib.pyplot as plt\n",
        "import csv\n",
        "\n",
        "try:\n",
        "    from PIL import Image\n",
        "except ImportError:\n",
        "    import Image\n",
        "import pytesseract\n",
        "\n",
        "#read your file\n",
        "file=r'/content/In_2-1.jpg'\n",
        "img = cv2.imread(file,0)\n",
        "img.shape\n",
        "\n",
        "\n",
        "#thresholding the image to a binary image\n",
        "\n",
        "thresh,img_bin = cv2.threshold(img,160,255,cv2.THRESH_BINARY | cv2.THRESH_OTSU)\n",
        "\n",
        "cv2.imwrite('goodimage.png',img_bin)\n",
        "#Plotting the image to see the output\n",
        "plotting = plt.imshow(img_bin,cmap='gray')\n",
        "plt.show()"
      ],
      "execution_count": null,
      "outputs": [
        {
          "output_type": "display_data",
          "data": {
            "image/png": "[encoded data removed]",
            "text/plain": [
              "<Figure size 432x288 with 1 Axes>"
            ]
          },
          "metadata": {
            "tags": [],
            "needs_background": "light"
          }
        }
      ]
    },
    {
      "cell_type": "code",
      "metadata": {
        "id": "__mYchXdCD0R",
        "colab_type": "code",
        "colab": {
          "base_uri": "https://localhost:8080/",
          "height": 54
        },
        "outputId": "1142c0b9-368d-4b7b-a3f2-e70f7a8bbf73"
      },
      "source": [
        "import requests\n",
        "\n",
        "\n",
        "def ocr_space_file(filename, overlay=True, api_key='', language='eng'):\n",
        "    payload = {'isOverlayRequired': overlay,\n",
        "               'apikey': api_key,\n",
        "               'language': language,\n",
        "               }\n",
        "    with open(filename, 'rb') as f:\n",
        "        r = requests.post('https://api.ocr.space/parse/image',\n",
        "                          files={filename: f},\n",
        "                          data=payload,\n",
        "                          )\n",
        "    return r.content.decode()\n",
        "\n",
        "\n",
        "def ocr_space_url(url, overlay=False, api_key='', language='eng'):\n",
        "    \n",
        "    payload = {'url': url,\n",
        "               'isOverlayRequired': overlay,\n",
        "               'apikey': api_key,\n",
        "               'language': language,\n",
        "               }\n",
        "    r = requests.post('https://api.ocr.space/parse/image',\n",
        "                      data=payload,\n",
        "                      )\n",
        "    return r.content.decode()\n",
        "\n",
        "\n",
        "# Use examples:\n",
        "test_file = ocr_space_file(filename='/content/goodimage.png', language='eng')\n",
        "test_file\n",
        "\n",
        "import json\n",
        "\n",
        "PrettyJson = json.dumps(json.loads(test_file), indent=4, separators=(',', ': '), sort_keys=True)\n",
        "\n",
        "print(str(test_file))"
      ],
      "execution_count": null,
      "outputs": [
        {
          "output_type": "stream",
          "text": [
            "{\"ParsedResults\":[{\"TextOverlay\":{\"Lines\":[{\"LineText\":\"TAX INVOICE\",\"Words\":[{\"WordText\":\"TAX\",\"Left\":733.0,\"Top\":270.0,\"Height\":18.0,\"Width\":43.0},{\"WordText\":\"INVOICE\",\"Left\":785.0,\"Top\":270.0,\"Height\":19.0,\"Width\":92.0}],\"MaxHeight\":19.0,\"MinTop\":270.0},{\"LineText\":\"(ORIGINAL FOR RECIPIENT)\",\"Words\":[{\"WordText\":\"(ORIGINAL\",\"Left\":1126.0,\"Top\":271.0,\"Height\":17.0,\"Width\":109.0},{\"WordText\":\"FOR\",\"Left\":1244.0,\"Top\":272.0,\"Height\":15.0,\"Width\":45.0},{\"WordText\":\"RECIPIENT)\",\"Left\":1296.0,\"Top\":272.0,\"Height\":19.0,\"Width\":123.0}],\"MaxHeight\":19.0,\"MinTop\":271.0},{\"LineText\":\"VIRTUAI.COMPANYIND\",\"Words\":[{\"WordText\":\"VIRTUAI.COMPANYIND\",\"Left\":196.0,\"Top\":337.0,\"Height\":14.0,\"Width\":203.0}],\"MaxHeight\":14.0,\"MinTop\":337.0},{\"LineText\":\"VirtualAddr, 255.0.0.0, India\",\"Words\":[{\"WordText\":\"VirtualAddr,\",\"Left\":196.0,\"Top\":363.0,\"Height\":17.0,\"Width\":94.0},{\"WordText\":\"255.0.0.0,\",\"Left\":296.0,\"Top\":363.0,\"Height\":17.0,\"Width\":81.0},{\"WordText\":\"India\",\"Left\":384.0,\"Top\":363.0,\"Height\":14.0,\"Width\":39.0}],\"MaxHeight\":17.0,\"MinTop\":363.0},{\"LineText\":\"as-rap.' : 17ABCOEF123GXYZ\",\"Words\":[{\"WordText\":\"as-rap.'\",\"Left\":196.0,\"Top\":397.0,\"Height\":14.0,\"Width\":72.0},{\"WordText\":\":\",\"Left\":278.0,\"Top\":401.0,\"Height\":10.0,\"Width\":3.0},{\"WordText\":\"17ABCOEF123GXYZ\",\"Left\":291.0,\"Top\":396.0,\"Height\":14.0,\"Width\":175.0}],\"MaxHeight\":14.0,\"MinTop\":396.0},{\"LineText\":\"GST'N,UIN: 17ABCDEF123GXYZ\",\"Words\":[{\"WordText\":\"GST'N,UIN:\",\"Left\":195.0,\"Top\":416.0,\"Height\":14.0,\"Width\":126.0},{\"WordText\":\"17ABCDEF123GXYZ\",\"Left\":326.0,\"Top\":416.0,\"Height\":14.0,\"Width\":174.0}],\"MaxHeight\":14.0,\"MinTop\":416.0},{\"LineText\":\"E-M'U : abc@gmail.com\",\"Words\":[{\"WordText\":\"E-M'U\",\"Left\":195.0,\"Top\":436.0,\"Height\":14.0,\"Width\":69.0},{\"WordText\":\":\",\"Left\":272.0,\"Top\":439.0,\"Height\":11.0,\"Width\":4.0},{\"WordText\":\"abc@gmail.com\",\"Left\":286.0,\"Top\":434.0,\"Height\":20.0,\"Width\":150.0}],\"MaxHeight\":20.0,\"MinTop\":434.0},{\"LineText\":\"RECIEVER COMPANYIND\",\"Words\":[{\"WordText\":\"RECIEVER\",\"Left\":197.0,\"Top\":486.0,\"Height\":14.0,\"Width\":93.0},{\"WordText\":\"COMPANYIND\",\"Left\":296.0,\"Top\":486.0,\"Height\":14.0,\"Width\":123.0}],\"MaxHeight\":14.0,\"MinTop\":486.0},{\"LineText\":\"Reciever Companylnd,\",\"Words\":[{\"WordText\":\"Reciever\",\"Left\":197.0,\"Top\":513.0,\"Height\":14.0,\"Width\":72.0},{\"WordText\":\"Companylnd,\",\"Left\":274.0,\"Top\":513.0,\"Height\":18.0,\"Width\":108.0}],\"MaxHeight\":18.0,\"MinTop\":513.0},{\"LineText\":\"111000, India\",\"Words\":[{\"WordText\":\"111000,\",\"Left\":197.0,\"Top\":534.0,\"Height\":17.0,\"Width\":62.0},{\"WordText\":\"India\",\"Left\":266.0,\"Top\":534.0,\"Height\":14.0,\"Width\":38.0}],\"MaxHeight\":17.0,\"MinTop\":534.0},{\"LineText\":\"GSTINIUIN: 07AABBC8888GIAZ1\",\"Words\":[{\"WordText\":\"GSTINIUIN:\",\"Left\":194.0,\"Top\":570.0,\"Height\":16.0,\"Width\":97.0},{\"WordText\":\"07AABBC8888GIAZ1\",\"Left\":299.0,\"Top\":570.0,\"Height\":17.0,\"Width\":205.0}],\"MaxHeight\":17.0,\"MinTop\":570.0},{\"LineText\":\"Buyer (if o •r than cone gnee)\",\"Words\":[{\"WordText\":\"Buyer\",\"Left\":195.0,\"Top\":604.0,\"Height\":17.0,\"Width\":57.0},{\"WordText\":\"(if\",\"Left\":258.0,\"Top\":604.0,\"Height\":17.0,\"Width\":19.0},{\"WordText\":\"o\",\"Left\":282.0,\"Top\":607.0,\"Height\":11.0,\"Width\":11.0},{\"WordText\":\"•r\",\"Left\":311.0,\"Top\":607.0,\"Height\":11.0,\"Width\":20.0},{\"WordText\":\"than\",\"Left\":337.0,\"Top\":605.0,\"Height\":13.0,\"Width\":41.0},{\"WordText\":\"cone\",\"Left\":385.0,\"Top\":608.0,\"Height\":11.0,\"Width\":45.0},{\"WordText\":\"gnee)\",\"Left\":435.0,\"Top\":606.0,\"Height\":16.0,\"Width\":52.0}],\"MaxHeight\":17.0,\"MinTop\":604.0},{\"LineText\":\"RECIEVER COMPANYIND\",\"Words\":[{\"WordText\":\"RECIEVER\",\"Left\":197.0,\"Top\":633.0,\"Height\":14.0,\"Width\":93.0},{\"WordText\":\"COMPANYIND\",\"Left\":296.0,\"Top\":633.0,\"Height\":14.0,\"Width\":123.0}],\"MaxHeight\":14.0,\"MinTop\":633.0},{\"LineText\":\"Reciever Companylnd,\",\"Words\":[{\"WordText\":\"Reciever\",\"Left\":197.0,\"Top\":657.0,\"Height\":13.0,\"Width\":72.0},{\"WordText\":\"Companylnd,\",\"Left\":274.0,\"Top\":656.0,\"Height\":18.0,\"Width\":108.0}],\"MaxHeight\":18.0,\"MinTop\":656.0},{\"LineText\":\"111000, Indie\",\"Words\":[{\"WordText\":\"111000,\",\"Left\":197.0,\"Top\":677.0,\"Height\":17.0,\"Width\":61.0},{\"WordText\":\"Indie\",\"Left\":266.0,\"Top\":677.0,\"Height\":14.0,\"Width\":38.0}],\"MaxHeight\":17.0,\"MinTop\":677.0},{\"LineText\":\"g.STlMJlN:07A.ABBC8888GIAZ1\",\"Words\":[{\"WordText\":\"g.STlMJlN:07A.ABBC8888GIAZ1\",\"Left\":194.0,\"Top\":703.0,\"Height\":17.0,\"Width\":304.0}],\"MaxHeight\":17.0,\"MinTop\":703.0},{\"LineText\":\"Place of Supply : Haryana\",\"Words\":[{\"WordText\":\"Place\",\"Left\":195.0,\"Top\":725.0,\"Height\":15.0,\"Width\":59.0},{\"WordText\":\"of\",\"Left\":261.0,\"Top\":724.0,\"Height\":16.0,\"Width\":21.0},{\"WordText\":\"Supply\",\"Left\":288.0,\"Top\":725.0,\"Height\":19.0,\"Width\":72.0},{\"WordText\":\":\",\"Left\":367.0,\"Top\":729.0,\"Height\":11.0,\"Width\":4.0},{\"WordText\":\"Haryana\",\"Left\":380.0,\"Top\":725.0,\"Height\":19.0,\"Width\":88.0}],\"MaxHeight\":19.0,\"MinTop\":724.0},{\"LineText\":\"Invol— No.\",\"Words\":[{\"WordText\":\"Invol—\",\"Left\":921.0,\"Top\":319.0,\"Height\":14.0,\"Width\":66.0},{\"WordText\":\"No.\",\"Left\":995.0,\"Top\":320.0,\"Height\":14.0,\"Width\":30.0}],\"MaxHeight\":14.0,\"MinTop\":319.0},{\"LineText\":\"1234\",\"Words\":[{\"WordText\":\"1234\",\"Left\":920.0,\"Top\":342.0,\"Height\":15.0,\"Width\":38.0}],\"MaxHeight\":15.0,\"MinTop\":342.0},{\"LineText\":\"D' tv•ry Ote\",\"Words\":[{\"WordText\":\"D'\",\"Left\":920.0,\"Top\":367.0,\"Height\":14.0,\"Width\":26.0},{\"WordText\":\"tv•ry\",\"Left\":953.0,\"Top\":368.0,\"Height\":16.0,\"Width\":43.0},{\"WordText\":\"Ote\",\"Left\":1019.0,\"Top\":369.0,\"Height\":13.0,\"Width\":30.0}],\"MaxHeight\":16.0,\"MinTop\":367.0},{\"LineText\":\"P01234567\",\"Words\":[{\"WordText\":\"P01234567\",\"Left\":919.0,\"Top\":438.0,\"Height\":16.0,\"Width\":97.0}],\"MaxHeight\":16.0,\"MinTop\":438.0},{\"LineText\":\"•r No.\",\"Words\":[{\"WordText\":\"•r\",\"Left\":1032.0,\"Top\":467.0,\"Height\":11.0,\"Width\":20.0},{\"WordText\":\"No.\",\"Left\":1059.0,\"Top\":464.0,\"Height\":14.0,\"Width\":29.0}],\"MaxHeight\":14.0,\"MinTop\":464.0},{\"LineText\":\"1234567\",\"Words\":[{\"WordText\":\"1234567\",\"Left\":920.0,\"Top\":486.0,\"Height\":16.0,\"Width\":69.0}],\"MaxHeight\":16.0,\"MinTop\":486.0},{\"LineText\":\"Dupe Docun•nt\",\"Words\":[{\"WordText\":\"Dupe\",\"Left\":920.0,\"Top\":512.0,\"Height\":17.0,\"Width\":60.0},{\"WordText\":\"Docun•nt\",\"Left\":1017.0,\"Top\":513.0,\"Height\":15.0,\"Width\":99.0}],\"MaxHeight\":17.0,\"MinTop\":512.0},{\"LineText\":\"Desp•tch'd through\",\"Words\":[{\"WordText\":\"Desp•tch'd\",\"Left\":919.0,\"Top\":561.0,\"Height\":17.0,\"Width\":114.0},{\"WordText\":\"through\",\"Left\":1040.0,\"Top\":563.0,\"Height\":17.0,\"Width\":73.0}],\"MaxHeight\":17.0,\"MinTop\":561.0},{\"LineText\":\"Terms of Døliv•ry\",\"Words\":[{\"WordText\":\"Terms\",\"Left\":918.0,\"Top\":613.0,\"Height\":14.0,\"Width\":61.0},{\"WordText\":\"of\",\"Left\":986.0,\"Top\":614.0,\"Height\":13.0,\"Width\":19.0},{\"WordText\":\"Døliv•ry\",\"Left\":1011.0,\"Top\":614.0,\"Height\":17.0,\"Width\":77.0}],\"MaxHeight\":17.0,\"MinTop\":613.0},{\"LineText\":\"a\",\"Words\":[{\"WordText\":\"a\",\"Left\":1138.0,\"Top\":517.0,\"Height\":11.0,\"Width\":13.0}],\"MaxHeight\":11.0,\"MinTop\":517.0},{\"LineText\":\"D.t'd\",\"Words\":[{\"WordText\":\"D.t'd\",\"Left\":1179.0,\"Top\":322.0,\"Height\":14.0,\"Width\":56.0}],\"MaxHeight\":14.0,\"MinTop\":322.0},{\"LineText\":\"1/712017\",\"Words\":[{\"WordText\":\"1/712017\",\"Left\":1178.0,\"Top\":344.0,\"Height\":16.0,\"Width\":69.0}],\"MaxHeight\":16.0,\"MinTop\":344.0},{\"LineText\":\"erm• o •yment\",\"Words\":[{\"WordText\":\"erm•\",\"Left\":1250.0,\"Top\":373.0,\"Height\":12.0,\"Width\":48.0},{\"WordText\":\"o\",\"Left\":1306.0,\"Top\":374.0,\"Height\":11.0,\"Width\":11.0},{\"WordText\":\"•yment\",\"Left\":1344.0,\"Top\":372.0,\"Height\":16.0,\"Width\":70.0}],\"MaxHeight\":16.0,\"MinTop\":372.0},{\"LineText\":\"Other\",\"Words\":[{\"WordText\":\"Other\",\"Left\":1177.0,\"Top\":418.0,\"Height\":14.0,\"Width\":55.0}],\"MaxHeight\":14.0,\"MinTop\":418.0},{\"LineText\":\"Dated\",\"Words\":[{\"WordText\":\"Dated\",\"Left\":1177.0,\"Top\":465.0,\"Height\":14.0,\"Width\":57.0}],\"MaxHeight\":14.0,\"MinTop\":465.0},{\"LineText\":\"1/712017\",\"Words\":[{\"WordText\":\"1/712017\",\"Left\":1178.0,\"Top\":488.0,\"Height\":16.0,\"Width\":69.0}],\"MaxHeight\":16.0,\"MinTop\":488.0},{\"LineText\":\"t ry ot• Date\",\"Words\":[{\"WordText\":\"t\",\"Left\":1205.0,\"Top\":515.0,\"Height\":13.0,\"Width\":4.0},{\"WordText\":\"ry\",\"Left\":1237.0,\"Top\":518.0,\"Height\":14.0,\"Width\":17.0},{\"WordText\":\"ot•\",\"Left\":1277.0,\"Top\":516.0,\"Height\":14.0,\"Width\":30.0},{\"WordText\":\"Date\",\"Left\":1314.0,\"Top\":516.0,\"Height\":14.0,\"Width\":44.0}],\"MaxHeight\":14.0,\"MinTop\":515.0},{\"LineText\":\"b.\",\"Words\":[{\"WordText\":\"b.\",\"Left\":194.0,\"Top\":858.0,\"Height\":14.0,\"Width\":19.0}],\"MaxHeight\":14.0,\"MinTop\":858.0},{\"LineText\":\"1\",\"Words\":[{\"WordText\":\"1\",\"Left\":196.0,\"Top\":892.0,\"Height\":14.0,\"Width\":7.0}],\"MaxHeight\":14.0,\"MinTop\":892.0},{\"LineText\":\"2\",\"Words\":[{\"WordText\":\"2\",\"Left\":194.0,\"Top\":937.0,\"Height\":15.0,\"Width\":12.0}],\"MaxHeight\":15.0,\"MinTop\":937.0},{\"LineText\":\"3\",\"Words\":[{\"WordText\":\"3\",\"Left\":194.0,\"Top\":982.0,\"Height\":16.0,\"Width\":12.0}],\"MaxHeight\":16.0,\"MinTop\":982.0},{\"LineText\":\"4\",\"Words\":[{\"WordText\":\"4\",\"Left\":193.0,\"Top\":1029.0,\"Height\":15.0,\"Width\":13.0}],\"MaxHeight\":15.0,\"MinTop\":1029.0},{\"LineText\":\"5\",\"Words\":[{\"WordText\":\"5\",\"Left\":194.0,\"Top\":1074.0,\"Height\":15.0,\"Width\":12.0}],\"MaxHeight\":15.0,\"MinTop\":1074.0},{\"LineText\":\"good.\",\"Words\":[{\"WordText\":\"good.\",\"Left\":516.0,\"Top\":837.0,\"Height\":14.0,\"Width\":49.0}],\"MaxHeight\":14.0,\"MinTop\":837.0},{\"LineText\":\"DUMMY PRODUCT FOR EVALUATION\",\"Words\":[{\"WordText\":\"DUMMY\",\"Left\":242.0,\"Top\":892.0,\"Height\":15.0,\"Width\":70.0},{\"WordText\":\"PRODUCT\",\"Left\":317.0,\"Top\":893.0,\"Height\":14.0,\"Width\":91.0},{\"WordText\":\"FOR\",\"Left\":414.0,\"Top\":893.0,\"Height\":14.0,\"Width\":38.0},{\"WordText\":\"EVALUATION\",\"Left\":458.0,\"Top\":894.0,\"Height\":14.0,\"Width\":116.0}],\"MaxHeight\":15.0,\"MinTop\":892.0},{\"LineText\":\"DUMMY PRODUCT FOR EVALUATION\",\"Words\":[{\"WordText\":\"DUMMY\",\"Left\":243.0,\"Top\":937.0,\"Height\":15.0,\"Width\":68.0},{\"WordText\":\"PRODUCT\",\"Left\":317.0,\"Top\":938.0,\"Height\":14.0,\"Width\":91.0},{\"WordText\":\"FOR\",\"Left\":414.0,\"Top\":938.0,\"Height\":14.0,\"Width\":38.0},{\"WordText\":\"EVALUATION\",\"Left\":458.0,\"Top\":939.0,\"Height\":14.0,\"Width\":116.0}],\"MaxHeight\":15.0,\"MinTop\":937.0},{\"LineText\":\"DUMMY PRODUCT FOR EVALUATION\",\"Words\":[{\"WordText\":\"DUMMY\",\"Left\":242.0,\"Top\":983.0,\"Height\":15.0,\"Width\":70.0},{\"WordText\":\"PRODUCT\",\"Left\":317.0,\"Top\":984.0,\"Height\":14.0,\"Width\":91.0},{\"WordText\":\"FOR\",\"Left\":414.0,\"Top\":984.0,\"Height\":14.0,\"Width\":38.0},{\"WordText\":\"EVALUATION\",\"Left\":458.0,\"Top\":985.0,\"Height\":14.0,\"Width\":116.0}],\"MaxHeight\":15.0,\"MinTop\":983.0},{\"LineText\":\"DUMMY PRODUCT FOR EVALUATION\",\"Words\":[{\"WordText\":\"DUMMY\",\"Left\":242.0,\"Top\":1030.0,\"Height\":15.0,\"Width\":69.0},{\"WordText\":\"PRODUCT\",\"Left\":317.0,\"Top\":1031.0,\"Height\":15.0,\"Width\":91.0},{\"WordText\":\"FOR\",\"Left\":414.0,\"Top\":1031.0,\"Height\":14.0,\"Width\":38.0},{\"WordText\":\"EVALUATION\",\"Left\":458.0,\"Top\":1032.0,\"Height\":14.0,\"Width\":116.0}],\"MaxHeight\":15.0,\"MinTop\":1030.0},{\"LineText\":\"DUMMY PRODUCT FOR EVALUATION\",\"Words\":[{\"WordText\":\"DUMMY\",\"Left\":242.0,\"Top\":1076.0,\"Height\":15.0,\"Width\":70.0},{\"WordText\":\"PRODUCT\",\"Left\":317.0,\"Top\":1077.0,\"Height\":14.0,\"Width\":91.0},{\"WordText\":\"FOR\",\"Left\":414.0,\"Top\":1077.0,\"Height\":14.0,\"Width\":38.0},{\"WordText\":\"EVALUATION\",\"Left\":458.0,\"Top\":1078.0,\"Height\":14.0,\"Width\":116.0}],\"MaxHeight\":15.0,\"MinTop\":1076.0},{\"LineText\":\"Output\",\"Words\":[{\"WordText\":\"Output\",\"Left\":547.0,\"Top\":1164.0,\"Height\":19.0,\"Width\":79.0}],\"MaxHeight\":19.0,\"MinTop\":1164.0},{\"LineText\":\"Roun&d or (Shon a\",\"Words\":[{\"WordText\":\"Roun&d\",\"Left\":417.0,\"Top\":1185.0,\"Height\":17.0,\"Width\":105.0},{\"WordText\":\"or\",\"Left\":528.0,\"Top\":1187.0,\"Height\":14.0,\"Width\":36.0},{\"WordText\":\"(Shon\",\"Left\":569.0,\"Top\":1187.0,\"Height\":18.0,\"Width\":72.0},{\"WordText\":\"a\",\"Left\":647.0,\"Top\":1187.0,\"Height\":15.0,\"Width\":15.0}],\"MaxHeight\":18.0,\"MinTop\":1185.0},{\"LineText\":\"otal\",\"Words\":[{\"WordText\":\"otal\",\"Left\":725.0,\"Top\":1663.0,\"Height\":14.0,\"Width\":35.0}],\"MaxHeight\":14.0,\"MinTop\":1663.0},{\"LineText\":\"HSWSAC Rat.\",\"Words\":[{\"WordText\":\"HSWSAC\",\"Left\":776.0,\"Top\":839.0,\"Height\":14.0,\"Width\":89.0},{\"WordText\":\"Rat.\",\"Left\":919.0,\"Top\":840.0,\"Height\":14.0,\"Width\":37.0}],\"MaxHeight\":14.0,\"MinTop\":839.0},{\"LineText\":\"12 %\",\"Words\":[{\"WordText\":\"12\",\"Left\":910.0,\"Top\":895.0,\"Height\":13.0,\"Width\":21.0},{\"WordText\":\"%\",\"Left\":939.0,\"Top\":895.0,\"Height\":14.0,\"Width\":17.0}],\"MaxHeight\":14.0,\"MinTop\":895.0},{\"LineText\":\"12 %\",\"Words\":[{\"WordText\":\"12\",\"Left\":910.0,\"Top\":941.0,\"Height\":13.0,\"Width\":21.0},{\"WordText\":\"%\",\"Left\":938.0,\"Top\":941.0,\"Height\":14.0,\"Width\":18.0}],\"MaxHeight\":14.0,\"MinTop\":941.0},{\"LineText\":\"12%\",\"Words\":[{\"WordText\":\"12%\",\"Left\":909.0,\"Top\":1078.0,\"Height\":13.0,\"Width\":47.0}],\"MaxHeight\":13.0,\"MinTop\":1078.0},{\"LineText\":\"Quantity\",\"Words\":[{\"WordText\":\"Quantity\",\"Left\":973.0,\"Top\":840.0,\"Height\":18.0,\"Width\":80.0}],\"MaxHeight\":18.0,\"MinTop\":840.0},{\"LineText\":\"74 PCS\",\"Words\":[{\"WordText\":\"74\",\"Left\":977.0,\"Top\":897.0,\"Height\":15.0,\"Width\":25.0},{\"WordText\":\"PCS\",\"Left\":1011.0,\"Top\":897.0,\"Height\":16.0,\"Width\":47.0}],\"MaxHeight\":16.0,\"MinTop\":897.0},{\"LineText\":\"50 PCS\",\"Words\":[{\"WordText\":\"50\",\"Left\":977.0,\"Top\":942.0,\"Height\":16.0,\"Width\":25.0},{\"WordText\":\"PCS\",\"Left\":1011.0,\"Top\":943.0,\"Height\":15.0,\"Width\":48.0}],\"MaxHeight\":16.0,\"MinTop\":942.0},{\"LineText\":\"50 PCS\",\"Words\":[{\"WordText\":\"50\",\"Left\":976.0,\"Top\":988.0,\"Height\":15.0,\"Width\":26.0},{\"WordText\":\"PCS\",\"Left\":1010.0,\"Top\":988.0,\"Height\":16.0,\"Width\":48.0}],\"MaxHeight\":16.0,\"MinTop\":988.0},{\"LineText\":\"74 PCS\",\"Words\":[{\"WordText\":\"74\",\"Left\":976.0,\"Top\":1034.0,\"Height\":15.0,\"Width\":26.0},{\"WordText\":\"PCS\",\"Left\":1010.0,\"Top\":1034.0,\"Height\":16.0,\"Width\":48.0}],\"MaxHeight\":16.0,\"MinTop\":1034.0},{\"LineText\":\"SO PCS\",\"Words\":[{\"WordText\":\"SO\",\"Left\":976.0,\"Top\":1079.0,\"Height\":16.0,\"Width\":25.0},{\"WordText\":\"PCS\",\"Left\":1010.0,\"Top\":1080.0,\"Height\":15.0,\"Width\":48.0}],\"MaxHeight\":16.0,\"MinTop\":1079.0},{\"LineText\":\"2\\\" PCS\",\"Words\":[{\"WordText\":\"2\\\"\",\"Left\":966.0,\"Top\":1666.0,\"Height\":16.0,\"Width\":31.0},{\"WordText\":\"PCS\",\"Left\":1011.0,\"Top\":1667.0,\"Height\":16.0,\"Width\":46.0}],\"MaxHeight\":16.0,\"MinTop\":1666.0},{\"LineText\":\"Rat.\",\"Words\":[{\"WordText\":\"Rat.\",\"Left\":1095.0,\"Top\":842.0,\"Height\":14.0,\"Width\":44.0}],\"MaxHeight\":14.0,\"MinTop\":842.0},{\"LineText\":\"247.32\",\"Words\":[{\"WordText\":\"247.32\",\"Left\":1097.0,\"Top\":897.0,\"Height\":14.0,\"Width\":66.0}],\"MaxHeight\":14.0,\"MinTop\":897.0},{\"LineText\":\"539.29\",\"Words\":[{\"WordText\":\"539.29\",\"Left\":1097.0,\"Top\":989.0,\"Height\":13.0,\"Width\":66.0}],\"MaxHeight\":13.0,\"MinTop\":989.0},{\"LineText\":\"aee.64\",\"Words\":[{\"WordText\":\"aee.64\",\"Left\":1096.0,\"Top\":1034.0,\"Height\":14.0,\"Width\":67.0}],\"MaxHeight\":14.0,\"MinTop\":1034.0},{\"LineText\":\"12\",\"Words\":[{\"WordText\":\"12\",\"Left\":1138.0,\"Top\":1169.0,\"Height\":14.0,\"Width\":24.0}],\"MaxHeight\":14.0,\"MinTop\":1169.0},{\"LineText\":\"Deun•thn\",\"Words\":[{\"WordText\":\"Deun•thn\",\"Left\":1177.0,\"Top\":564.0,\"Height\":14.0,\"Width\":107.0}],\"MaxHeight\":14.0,\"MinTop\":564.0},{\"LineText\":\"per %\",\"Words\":[{\"WordText\":\"per\",\"Left\":1177.0,\"Top\":845.0,\"Height\":14.0,\"Width\":33.0},{\"WordText\":\"%\",\"Left\":1263.0,\"Top\":843.0,\"Height\":14.0,\"Width\":13.0}],\"MaxHeight\":14.0,\"MinTop\":843.0},{\"LineText\":\"PCS\",\"Words\":[{\"WordText\":\"PCS\",\"Left\":1176.0,\"Top\":897.0,\"Height\":14.0,\"Width\":34.0}],\"MaxHeight\":14.0,\"MinTop\":897.0},{\"LineText\":\"PCS\",\"Words\":[{\"WordText\":\"PCS\",\"Left\":1176.0,\"Top\":943.0,\"Height\":14.0,\"Width\":34.0}],\"MaxHeight\":14.0,\"MinTop\":943.0},{\"LineText\":\"PCS\",\"Words\":[{\"WordText\":\"PCS\",\"Left\":1176.0,\"Top\":989.0,\"Height\":13.0,\"Width\":33.0}],\"MaxHeight\":13.0,\"MinTop\":989.0},{\"LineText\":\"PCS\",\"Words\":[{\"WordText\":\"PCS\",\"Left\":1176.0,\"Top\":1034.0,\"Height\":14.0,\"Width\":33.0}],\"MaxHeight\":14.0,\"MinTop\":1034.0},{\"LineText\":\"PCS\",\"Words\":[{\"WordText\":\"PCS\",\"Left\":1176.0,\"Top\":1080.0,\"Height\":13.0,\"Width\":33.0}],\"MaxHeight\":13.0,\"MinTop\":1080.0},{\"LineText\":\"Amount\",\"Words\":[{\"WordText\":\"Amount\",\"Left\":1319.0,\"Top\":844.0,\"Height\":14.0,\"Width\":76.0}],\"MaxHeight\":14.0,\"MinTop\":844.0},{\"LineText\":\"1 e.\\\" 1.60\",\"Words\":[{\"WordText\":\"1\",\"Left\":1322.0,\"Top\":900.0,\"Height\":15.0,\"Width\":7.0},{\"WordText\":\"e.\\\"\",\"Left\":1333.0,\"Top\":900.0,\"Height\":17.0,\"Width\":46.0},{\"WordText\":\"1.60\",\"Left\":1382.0,\"Top\":900.0,\"Height\":16.0,\"Width\":44.0}],\"MaxHeight\":17.0,\"MinTop\":900.0},{\"LineText\":\"24.132.oo\",\"Words\":[{\"WordText\":\"24.132.oo\",\"Left\":1320.0,\"Top\":946.0,\"Height\":17.0,\"Width\":105.0}],\"MaxHeight\":17.0,\"MinTop\":946.0},{\"LineText\":\"26.964.so\",\"Words\":[{\"WordText\":\"26.964.so\",\"Left\":1320.0,\"Top\":991.0,\"Height\":17.0,\"Width\":105.0}],\"MaxHeight\":17.0,\"MinTop\":991.0},{\"LineText\":\"49,464.50\",\"Words\":[{\"WordText\":\"49,464.50\",\"Left\":1319.0,\"Top\":1083.0,\"Height\":17.0,\"Width\":106.0}],\"MaxHeight\":17.0,\"MinTop\":1083.0},{\"LineText\":\"INR On. SIX Thousand On. Hun&.d Forty Slx Only\",\"Words\":[{\"WordText\":\"INR\",\"Left\":192.0,\"Top\":1714.0,\"Height\":15.0,\"Width\":36.0},{\"WordText\":\"On.\",\"Left\":239.0,\"Top\":1714.0,\"Height\":15.0,\"Width\":43.0},{\"WordText\":\"SIX\",\"Left\":412.0,\"Top\":1714.0,\"Height\":16.0,\"Width\":32.0},{\"WordText\":\"Thousand\",\"Left\":454.0,\"Top\":1715.0,\"Height\":16.0,\"Width\":114.0},{\"WordText\":\"On.\",\"Left\":576.0,\"Top\":1716.0,\"Height\":15.0,\"Width\":45.0},{\"WordText\":\"Hun&.d\",\"Left\":630.0,\"Top\":1716.0,\"Height\":16.0,\"Width\":95.0},{\"WordText\":\"Forty\",\"Left\":736.0,\"Top\":1717.0,\"Height\":19.0,\"Width\":62.0},{\"WordText\":\"Slx\",\"Left\":802.0,\"Top\":1718.0,\"Height\":14.0,\"Width\":35.0},{\"WordText\":\"Only\",\"Left\":845.0,\"Top\":1718.0,\"Height\":19.0,\"Width\":53.0}],\"MaxHeight\":19.0,\"MinTop\":1714.0},{\"LineText\":\"HSN'SAC\",\"Words\":[{\"WordText\":\"HSN'SAC\",\"Left\":596.0,\"Top\":1743.0,\"Height\":14.0,\"Width\":75.0}],\"MaxHeight\":14.0,\"MinTop\":1743.0},{\"LineText\":\"Tax—bb\",\"Words\":[{\"WordText\":\"Tax—bb\",\"Left\":1120.0,\"Top\":1748.0,\"Height\":13.0,\"Width\":76.0}],\"MaxHeight\":13.0,\"MinTop\":1748.0},{\"LineText\":\"V•Lu•\",\"Words\":[{\"WordText\":\"V•Lu•\",\"Left\":1130.0,\"Top\":1767.0,\"Height\":13.0,\"Width\":56.0}],\"MaxHeight\":13.0,\"MinTop\":1767.0},{\"LineText\":\"t 6.12'.\\\"\",\"Words\":[{\"WordText\":\"t\",\"Left\":1321.0,\"Top\":1172.0,\"Height\":15.0,\"Width\":7.0},{\"WordText\":\"6.12'.\\\"\",\"Left\":1332.0,\"Top\":1172.0,\"Height\":17.0,\"Width\":92.0}],\"MaxHeight\":17.0,\"MinTop\":1172.0},{\"LineText\":\"0.04\",\"Words\":[{\"WordText\":\"0.04\",\"Left\":1379.0,\"Top\":1195.0,\"Height\":16.0,\"Width\":46.0}],\"MaxHeight\":16.0,\"MinTop\":1195.0},{\"LineText\":\"e 1.S'.14'.oo\",\"Words\":[{\"WordText\":\"e\",\"Left\":1288.0,\"Top\":1671.0,\"Height\":18.0,\"Width\":12.0},{\"WordText\":\"1.S'.14'.oo\",\"Left\":1307.0,\"Top\":1671.0,\"Height\":20.0,\"Width\":116.0}],\"MaxHeight\":20.0,\"MinTop\":1671.0},{\"LineText\":\"Rat.\",\"Words\":[{\"WordText\":\"Rat.\",\"Left\":1242.0,\"Top\":1768.0,\"Height\":14.0,\"Width\":44.0}],\"MaxHeight\":14.0,\"MinTop\":1768.0},{\"LineText\":\"Tu\",\"Words\":[{\"WordText\":\"Tu\",\"Left\":190.0,\"Top\":1831.0,\"Height\":13.0,\"Width\":27.0}],\"MaxHeight\":13.0,\"MinTop\":1831.0},{\"LineText\":\"l' oha\",\"Words\":[{\"WordText\":\"l'\",\"Left\":190.0,\"Top\":2049.0,\"Height\":13.0,\"Width\":16.0},{\"WordText\":\"oha\",\"Left\":290.0,\"Top\":2050.0,\"Height\":14.0,\"Width\":34.0}],\"MaxHeight\":14.0,\"MinTop\":2049.0},{\"LineText\":\"• INR Thou•and Seven Hundred Twenty NIn• and NIn.tg Two Only\",\"Words\":[{\"WordText\":\"•\",\"Left\":370.0,\"Top\":1841.0,\"Height\":4.0,\"Width\":3.0},{\"WordText\":\"INR\",\"Left\":389.0,\"Top\":1833.0,\"Height\":15.0,\"Width\":38.0},{\"WordText\":\"Thou•and\",\"Left\":530.0,\"Top\":1834.0,\"Height\":15.0,\"Width\":116.0},{\"WordText\":\"Seven\",\"Left\":655.0,\"Top\":1835.0,\"Height\":15.0,\"Width\":70.0},{\"WordText\":\"Hundred\",\"Left\":733.0,\"Top\":1836.0,\"Height\":15.0,\"Width\":95.0},{\"WordText\":\"Twenty\",\"Left\":839.0,\"Top\":1837.0,\"Height\":19.0,\"Width\":85.0},{\"WordText\":\"NIn•\",\"Left\":929.0,\"Top\":1837.0,\"Height\":15.0,\"Width\":51.0},{\"WordText\":\"and\",\"Left\":988.0,\"Top\":1838.0,\"Height\":15.0,\"Width\":40.0},{\"WordText\":\"NIn.tg\",\"Left\":1038.0,\"Top\":1838.0,\"Height\":20.0,\"Width\":74.0},{\"WordText\":\"Two\",\"Left\":1120.0,\"Top\":1839.0,\"Height\":15.0,\"Width\":50.0},{\"WordText\":\"Only\",\"Left\":1245.0,\"Top\":1840.0,\"Height\":19.0,\"Width\":53.0}],\"MaxHeight\":20.0,\"MinTop\":1833.0},{\"LineText\":\"icabfe 7 NO\",\"Words\":[{\"WordText\":\"icabfe\",\"Left\":403.0,\"Top\":2051.0,\"Height\":13.0,\"Width\":55.0},{\"WordText\":\"7\",\"Left\":465.0,\"Top\":2051.0,\"Height\":13.0,\"Width\":11.0},{\"WordText\":\"NO\",\"Left\":484.0,\"Top\":2051.0,\"Height\":14.0,\"Width\":31.0}],\"MaxHeight\":14.0,\"MinTop\":2051.0},{\"LineText\":\"SWJECT TO N JLJRJSOICTION\",\"Words\":[{\"WordText\":\"SWJECT\",\"Left\":676.0,\"Top\":2078.0,\"Height\":14.0,\"Width\":71.0},{\"WordText\":\"TO\",\"Left\":756.0,\"Top\":2079.0,\"Height\":13.0,\"Width\":22.0},{\"WordText\":\"N\",\"Left\":785.0,\"Top\":2079.0,\"Height\":13.0,\"Width\":11.0},{\"WordText\":\"JLJRJSOICTION\",\"Left\":802.0,\"Top\":2080.0,\"Height\":14.0,\"Width\":114.0}],\"MaxHeight\":14.0,\"MinTop\":2078.0},{\"LineText\":\"T\\\" GmenDd\",\"Words\":[{\"WordText\":\"T\\\"\",\"Left\":654.0,\"Top\":2109.0,\"Height\":13.0,\"Width\":29.0},{\"WordText\":\"GmenDd\",\"Left\":801.0,\"Top\":2110.0,\"Height\":14.0,\"Width\":78.0}],\"MaxHeight\":14.0,\"MinTop\":2109.0}],\"HasOverlay\":true,\"Message\":\"Total lines: 91\"},\"TextOrientation\":\"0\",\"FileParseExitCode\":1,\"ParsedText\":\"TAX INVOICE\\r\\n(ORIGINAL FOR RECIPIENT)\\r\\nVIRTUAI.COMPANYIND\\r\\nVirtualAddr, 255.0.0.0, India\\r\\nas-rap.' : 17ABCOEF123GXYZ\\r\\nGST'N,UIN: 17ABCDEF123GXYZ\\r\\nE-M'U : abc@gmail.com\\r\\nRECIEVER COMPANYIND\\r\\nReciever Companylnd,\\r\\n111000, India\\r\\nGSTINIUIN: 07AABBC8888GIAZ1\\r\\nBuyer (if o •r than cone gnee)\\r\\nRECIEVER COMPANYIND\\r\\nReciever Companylnd,\\r\\n111000, Indie\\r\\ng.STlMJlN:07A.ABBC8888GIAZ1\\r\\nPlace of Supply : Haryana\\r\\nInvol— No.\\r\\n1234\\r\\nD' tv•ry Ote\\r\\nP01234567\\r\\n•r No.\\r\\n1234567\\r\\nDupe Docun•nt\\r\\nDesp•tch'd through\\r\\nTerms of Døliv•ry\\r\\na\\r\\nD.t'd\\r\\n1/712017\\r\\nerm• o •yment\\r\\nOther\\r\\nDated\\r\\n1/712017\\r\\nt ry ot• Date\\r\\nb.\\r\\n1\\r\\n2\\r\\n3\\r\\n4\\r\\n5\\r\\ngood.\\r\\nDUMMY PRODUCT FOR EVALUATION\\r\\nDUMMY PRODUCT FOR EVALUATION\\r\\nDUMMY PRODUCT FOR EVALUATION\\r\\nDUMMY PRODUCT FOR EVALUATION\\r\\nDUMMY PRODUCT FOR EVALUATION\\r\\nOutput\\r\\nRoun&d or (Shon a\\r\\notal\\r\\nHSWSAC Rat.\\r\\n12 %\\r\\n12 %\\r\\n12%\\r\\nQuantity\\r\\n74 PCS\\r\\n50 PCS\\r\\n50 PCS\\r\\n74 PCS\\r\\nSO PCS\\r\\n2\\\" PCS\\r\\nRat.\\r\\n247.32\\r\\n539.29\\r\\naee.64\\r\\n12\\r\\nDeun•thn\\r\\nper %\\r\\nPCS\\r\\nPCS\\r\\nPCS\\r\\nPCS\\r\\nPCS\\r\\nAmount\\r\\n1 e.\\\" 1.60\\r\\n24.132.oo\\r\\n26.964.so\\r\\n49,464.50\\r\\nINR On. SIX Thousand On. Hun&.d Forty Slx Only\\r\\nHSN'SAC\\r\\nTax—bb\\r\\nV•Lu•\\r\\nt 6.12'.\\\"\\r\\n0.04\\r\\ne 1.S'.14'.oo\\r\\nRat.\\r\\nTu\\r\\nl' oha\\r\\n• INR Thou•and Seven Hundred Twenty NIn• and NIn.tg Two Only\\r\\nicabfe 7 NO\\r\\nSWJECT TO N JLJRJSOICTION\\r\\nT\\\" GmenDd\\r\\n\",\"ErrorMessage\":\"\",\"ErrorDetails\":\"\"}],\"OCRExitCode\":1,\"IsErroredOnProcessing\":false,\"ProcessingTimeInMilliseconds\":\"2740\",\"SearchablePDFURL\":\"Searchable PDF not generated as it was not requested.\"}\n"
          ],
          "name": "stdout"
        }
      ]
    }
  ]
}